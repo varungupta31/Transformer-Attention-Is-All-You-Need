{
 "cells": [
  {
   "cell_type": "code",
   "execution_count": 4,
   "metadata": {},
   "outputs": [],
   "source": [
    "import numpy as np\n",
    "import torch\n",
    "import torch.nn as nn\n",
    "from torch import einsum as ti"
   ]
  },
  {
   "cell_type": "code",
   "execution_count": 8,
   "metadata": {},
   "outputs": [
    {
     "data": {
      "text/plain": [
       "<torch._C.Generator at 0x10fe5a250>"
      ]
     },
     "execution_count": 8,
     "metadata": {},
     "output_type": "execute_result"
    }
   ],
   "source": [
    "torch.manual_seed(31)"
   ]
  },
  {
   "cell_type": "code",
   "execution_count": 11,
   "metadata": {},
   "outputs": [
    {
     "name": "stdout",
     "output_type": "stream",
     "text": [
      "torch.Size([2, 3])\n"
     ]
    },
    {
     "data": {
      "text/plain": [
       "tensor([[-0.7624,  1.0557, -0.1154],\n",
       "        [ 0.5772,  0.4651,  0.2977]])"
      ]
     },
     "execution_count": 11,
     "metadata": {},
     "output_type": "execute_result"
    }
   ],
   "source": [
    "x = torch.randn((2,3))\n",
    "print(x.shape)\n",
    "x"
   ]
  },
  {
   "cell_type": "code",
   "execution_count": 12,
   "metadata": {},
   "outputs": [
    {
     "name": "stdout",
     "output_type": "stream",
     "text": [
      "torch.Size([3, 2])\n",
      "tensor([[-0.7624,  0.5772],\n",
      "        [ 1.0557,  0.4651],\n",
      "        [-0.1154,  0.2977]])\n"
     ]
    }
   ],
   "source": [
    "#Permutation of Tensors\n",
    "#----------------------------------------------#\n",
    "x_1 = ti(\"ij->ji\", x)\n",
    "print(x_1.shape)\n",
    "print(x_1)"
   ]
  },
  {
   "cell_type": "code",
   "execution_count": 13,
   "metadata": {},
   "outputs": [
    {
     "name": "stdout",
     "output_type": "stream",
     "text": [
      "tensor(1.5178)\n",
      "tensor([-0.1852,  1.5208,  0.1823])\n",
      "tensor([0.1779, 1.3400])\n"
     ]
    }
   ],
   "source": [
    "#Summation\n",
    "\n",
    "#Summation over all the items\n",
    "#----------------------------------------------#\n",
    "x2 = ti(\"ij->\", x)\n",
    "print(x2)\n",
    "\n",
    "#Summation over all the columns\n",
    "#----------------------------------------------#\n",
    "x3 = ti(\"ij->j\",x)\n",
    "print(x3)\n",
    "\n",
    "#Summation over all the Rows\n",
    "#----------------------------------------------#\n",
    "x4 = ti(\"ij->i\", x)\n",
    "print(x4)"
   ]
  },
  {
   "cell_type": "code",
   "execution_count": 15,
   "metadata": {},
   "outputs": [
    {
     "name": "stdout",
     "output_type": "stream",
     "text": [
      "torch.Size([2, 1])\n",
      "tensor([[1.7475],\n",
      "        [2.0190]])\n"
     ]
    }
   ],
   "source": [
    "#Matrix-Vector Multiplication\n",
    "#----------------------------------------------#\n",
    "# X is of shape [2,3]\n",
    "v = torch.randn((1, 3))\n",
    "#Remeber the shape of 'x' is: [2,3], So to multiply [2,3]x[1,3] we need to transpose v, via regular method. Not with EinSUM!\n",
    "x5 = ti(\"ij, kj -> ik\", x, v)\n",
    "print(x5.shape)\n",
    "print(x5)\n"
   ]
  },
  {
   "cell_type": "code",
   "execution_count": 17,
   "metadata": {},
   "outputs": [
    {
     "name": "stdout",
     "output_type": "stream",
     "text": [
      "torch.Size([2, 2])\n",
      "tensor([[1.7091, 0.0166],\n",
      "        [0.0166, 0.6381]])\n"
     ]
    }
   ],
   "source": [
    "#Matric-Matrix Multiplication\n",
    "#----------------------------------------------#\n",
    "x6 = ti(\"ij,kj->ik\", x, x)\n",
    "print(x6.shape)\n",
    "print(x6)\n"
   ]
  },
  {
   "cell_type": "code",
   "execution_count": 18,
   "metadata": {},
   "outputs": [
    {
     "name": "stdout",
     "output_type": "stream",
     "text": [
      "torch.Size([])\n",
      "tensor(1.7091)\n"
     ]
    }
   ],
   "source": [
    "#Dot Product First row with First row of the Matrix.\n",
    "#----------------------------------------------#\n",
    "\n",
    "#This will do dot product and sum it up.\n",
    "x7 = ti(\"i,i->\", x[0], x[0])\n",
    "print(x7.shape)\n",
    "print(x7)"
   ]
  },
  {
   "cell_type": "code",
   "execution_count": 19,
   "metadata": {},
   "outputs": [
    {
     "name": "stdout",
     "output_type": "stream",
     "text": [
      "torch.Size([])\n",
      "tensor(2.3471)\n"
     ]
    }
   ],
   "source": [
    "#Dot product with Mmatrix\n",
    "#----------------------------------------------#\n",
    "\n",
    "x8 = ti(\"ij, ij ->\", x,x)\n",
    "print(x8.shape)\n",
    "print(x8)"
   ]
  },
  {
   "cell_type": "code",
   "execution_count": 20,
   "metadata": {},
   "outputs": [
    {
     "name": "stdout",
     "output_type": "stream",
     "text": [
      "torch.Size([2, 3])\n",
      "tensor([[0.5813, 1.1145, 0.0133],\n",
      "        [0.3331, 0.2163, 0.0886]])\n"
     ]
    }
   ],
   "source": [
    "#Hadamard Product\n",
    "#----------------------------------------------#\n",
    "\n",
    "x9 = ti(\"ij, ij -> ij\", x, x)\n",
    "print(x9.shape)\n",
    "print(x9)"
   ]
  },
  {
   "cell_type": "code",
   "execution_count": 21,
   "metadata": {},
   "outputs": [
    {
     "name": "stdout",
     "output_type": "stream",
     "text": [
      "tensor([ 0.3011,  0.0309, -0.5694]) tensor([-1.1082,  0.6294,  0.2396,  0.6942,  1.4003])\n",
      "tensor([[-0.3337,  0.1895,  0.0722,  0.2091,  0.4217],\n",
      "        [-0.0343,  0.0195,  0.0074,  0.0215,  0.0433],\n",
      "        [ 0.6310, -0.3584, -0.1365, -0.3953, -0.7974]])\n",
      "torch.Size([3, 5])\n"
     ]
    }
   ],
   "source": [
    "# Outer Product\n",
    "#----------------------------------------------#\n",
    "a = torch.randn((3))\n",
    "b = torch.randn((5))\n",
    "print(a,b)\n",
    "x10 = ti(\"i,j -> ij\", a, b)\n",
    "print(x10)\n",
    "print(x10.shape)"
   ]
  },
  {
   "cell_type": "code",
   "execution_count": 23,
   "metadata": {},
   "outputs": [
    {
     "name": "stdout",
     "output_type": "stream",
     "text": [
      "tensor([[[-2.5650, -3.9466,  1.3985],\n",
      "         [ 0.6729,  0.4678, -1.4392]],\n",
      "\n",
      "        [[ 1.4161, -2.4872, -1.0086],\n",
      "         [-2.3177,  4.0892, -0.7044]],\n",
      "\n",
      "        [[ 3.1235,  0.6923,  2.2228],\n",
      "         [-0.2678,  1.0338,  0.2762]]])\n",
      "torch.Size([3, 2, 3])\n"
     ]
    }
   ],
   "source": [
    "#Batch Matrix Multiplication\n",
    "#----------------------------------------------#\n",
    "a = torch.randn((3, 2, 5))\n",
    "b = torch.randn((3, 5, 3))\n",
    "x11 = ti(\"ijk, ikl -> ijl\", a, b)\n",
    "print(x11)\n",
    "print(x11.shape)"
   ]
  },
  {
   "cell_type": "code",
   "execution_count": 24,
   "metadata": {},
   "outputs": [
    {
     "name": "stdout",
     "output_type": "stream",
     "text": [
      "tensor([[0.9101, 0.1522, 0.3995],\n",
      "        [0.8050, 0.3062, 0.1808],\n",
      "        [0.9059, 0.9003, 0.4182]])\n",
      "tensor([0.9101, 0.3062, 0.4182])\n"
     ]
    }
   ],
   "source": [
    "#Matrix Diagonal\n",
    "#----------------------------------------------#\n",
    "\n",
    "x = torch.rand((3,3))\n",
    "print(x)\n",
    "x = ti(\"ii->i\", x)\n",
    "print(x)\n"
   ]
  },
  {
   "cell_type": "code",
   "execution_count": null,
   "metadata": {},
   "outputs": [],
   "source": []
  }
 ],
 "metadata": {
  "kernelspec": {
   "display_name": "smai",
   "language": "python",
   "name": "python3"
  },
  "language_info": {
   "codemirror_mode": {
    "name": "ipython",
    "version": 3
   },
   "file_extension": ".py",
   "mimetype": "text/x-python",
   "name": "python",
   "nbconvert_exporter": "python",
   "pygments_lexer": "ipython3",
   "version": "3.10.9"
  },
  "orig_nbformat": 4
 },
 "nbformat": 4,
 "nbformat_minor": 2
}
